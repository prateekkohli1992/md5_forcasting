{
 "cells": [
  {
   "cell_type": "code",
   "execution_count": 1,
   "id": "6a0fe555-1de9-4545-8f02-1f90b6a5d68e",
   "metadata": {},
   "outputs": [],
   "source": [
    "import pandas as pd\n",
    "import zipfile\n",
    "import seaborn as sns"
   ]
  },
  {
   "cell_type": "code",
   "execution_count": 2,
   "id": "c6cf4177-6cbc-43d3-b89a-f7addc45337f",
   "metadata": {},
   "outputs": [],
   "source": [
    "import matplotlib.pyplot as plt\n",
    "import numpy as np\n",
    "import gc\n",
    "import pyarrow.feather as feather"
   ]
  },
  {
   "cell_type": "code",
   "execution_count": 3,
   "id": "207d1d6c-5884-4419-a72a-46cc83f9ee0e",
   "metadata": {},
   "outputs": [],
   "source": [
    "import dask.dataframe as dd"
   ]
  },
  {
   "cell_type": "code",
   "execution_count": 4,
   "id": "d2a4ae82-278c-4fba-867d-fc26c524e107",
   "metadata": {},
   "outputs": [],
   "source": [
    "data_path=\"../data/data_accuracy/\""
   ]
  },
  {
   "cell_type": "code",
   "execution_count": 5,
   "id": "80f397e0-501d-494d-bf3a-c7eb5283e23e",
   "metadata": {},
   "outputs": [],
   "source": [
    "calender=pd.read_csv(data_path+\"calendar.csv\",dtype={'event_name_2': 'object',\n",
    "       'event_type_2': 'object'})\n",
    "sales_data=pd.read_csv(data_path+\"sell_prices.csv\")\n",
    "sales_train_validation=pd.read_csv(data_path+\"sales_train_validation.csv\")"
   ]
  },
  {
   "cell_type": "code",
   "execution_count": 6,
   "id": "ca07ea98-fe55-434c-be58-77024ce365a5",
   "metadata": {},
   "outputs": [],
   "source": [
    "pd.set_option('display.max_columns', None)"
   ]
  },
  {
   "cell_type": "code",
   "execution_count": 7,
   "id": "cc90ff5e-f15b-464b-8f62-15bc9b3373a5",
   "metadata": {},
   "outputs": [
    {
     "data": {
      "text/plain": [
       "(30490, 1919)"
      ]
     },
     "execution_count": 7,
     "metadata": {},
     "output_type": "execute_result"
    }
   ],
   "source": [
    "sales_train_validation.shape"
   ]
  },
  {
   "cell_type": "code",
   "execution_count": 8,
   "id": "654a5f91-ae44-4a63-8d57-2623821f7cbc",
   "metadata": {},
   "outputs": [],
   "source": [
    "s1 = sales_train_validation.groupby(['store_id','dept_id'], group_keys=False).apply(lambda x: x.sample(2))"
   ]
  },
  {
   "cell_type": "code",
   "execution_count": 9,
   "id": "2144a969-0ac4-4c5a-a485-be078512df28",
   "metadata": {},
   "outputs": [],
   "source": [
    "sales_train_validation = sales_train_validation[sales_train_validation[\"item_id\"].isin(s1[\"item_id\"].unique())]"
   ]
  },
  {
   "cell_type": "code",
   "execution_count": 10,
   "id": "49af4ec3-b675-4858-a055-dd03bd8c1dee",
   "metadata": {},
   "outputs": [
    {
     "data": {
      "text/plain": [
       "141"
      ]
     },
     "execution_count": 10,
     "metadata": {},
     "output_type": "execute_result"
    }
   ],
   "source": [
    "gc.collect()"
   ]
  },
  {
   "cell_type": "code",
   "execution_count": 11,
   "id": "285f4401-db18-45c8-aba5-ef10f0ac7215",
   "metadata": {},
   "outputs": [],
   "source": [
    "def snaps(x):\n",
    "    snaps=[]\n",
    "    if(x[\"snap_CA\"]==1):\n",
    "        snaps.append(\"snapca\")\n",
    "    elif (x[\"snap_TX\"]==1):\n",
    "        snaps.append(\"snaptx\")\n",
    "    elif (x[\"snap_WI\"]==1):\n",
    "        snaps.append(\"snapwi\")\n",
    "    else:\n",
    "        snaps.append(\"snapno\")\n",
    "    return \"-\".join(snaps)"
   ]
  },
  {
   "cell_type": "code",
   "execution_count": 12,
   "id": "ff2d9ea4-71a6-4f67-b342-a3359b465cb3",
   "metadata": {},
   "outputs": [],
   "source": [
    "calender[\"snaps\"] = calender.apply(lambda x: snaps(x),axis=1)"
   ]
  },
  {
   "cell_type": "code",
   "execution_count": 13,
   "id": "1c1439b6-be29-4e1b-b7b9-a45671e80b08",
   "metadata": {},
   "outputs": [
    {
     "data": {
      "text/plain": [
       "snapno    994\n",
       "snapca    650\n",
       "snaptx    260\n",
       "snapwi     65\n",
       "Name: snaps, dtype: int64"
      ]
     },
     "execution_count": 13,
     "metadata": {},
     "output_type": "execute_result"
    }
   ],
   "source": [
    "calender[\"snaps\"].value_counts()"
   ]
  },
  {
   "cell_type": "code",
   "execution_count": 14,
   "id": "5f55a602-ba97-4081-8bec-9da2449b96bd",
   "metadata": {},
   "outputs": [],
   "source": [
    "calender.fillna(\"noevent\",inplace=True)"
   ]
  },
  {
   "cell_type": "code",
   "execution_count": 15,
   "id": "62517abc-175a-412e-bb77-90de792e5135",
   "metadata": {},
   "outputs": [],
   "source": [
    "cols = list(sales_train_validation.loc[:,\"d_1\":].columns)"
   ]
  },
  {
   "cell_type": "code",
   "execution_count": 16,
   "id": "8c0c2200-ed96-465f-97c2-c57d53646986",
   "metadata": {},
   "outputs": [
    {
     "data": {
      "text/plain": [
       "(1350, 1919)"
      ]
     },
     "execution_count": 16,
     "metadata": {},
     "output_type": "execute_result"
    }
   ],
   "source": [
    "sales_train_validation.shape"
   ]
  },
  {
   "cell_type": "code",
   "execution_count": 17,
   "id": "05fe1841-c487-4dbb-9002-f146e1d5eebb",
   "metadata": {},
   "outputs": [],
   "source": [
    "st_validation = pd.melt(sales_train_validation,id_vars=[\"id\",\"item_id\",\"dept_id\",\"store_id\",\"state_id\"],value_vars=cols)"
   ]
  },
  {
   "cell_type": "code",
   "execution_count": 18,
   "id": "9ba14268-82b6-4c0b-a717-117ea6dfb5b0",
   "metadata": {},
   "outputs": [
    {
     "data": {
      "text/html": [
       "<div>\n",
       "<style scoped>\n",
       "    .dataframe tbody tr th:only-of-type {\n",
       "        vertical-align: middle;\n",
       "    }\n",
       "\n",
       "    .dataframe tbody tr th {\n",
       "        vertical-align: top;\n",
       "    }\n",
       "\n",
       "    .dataframe thead th {\n",
       "        text-align: right;\n",
       "    }\n",
       "</style>\n",
       "<table border=\"1\" class=\"dataframe\">\n",
       "  <thead>\n",
       "    <tr style=\"text-align: right;\">\n",
       "      <th></th>\n",
       "      <th>id</th>\n",
       "      <th>item_id</th>\n",
       "      <th>dept_id</th>\n",
       "      <th>store_id</th>\n",
       "      <th>state_id</th>\n",
       "      <th>variable</th>\n",
       "      <th>value</th>\n",
       "    </tr>\n",
       "  </thead>\n",
       "  <tbody>\n",
       "    <tr>\n",
       "      <th>0</th>\n",
       "      <td>HOBBIES_1_033_CA_1_validation</td>\n",
       "      <td>HOBBIES_1_033</td>\n",
       "      <td>HOBBIES_1</td>\n",
       "      <td>CA_1</td>\n",
       "      <td>CA</td>\n",
       "      <td>d_1</td>\n",
       "      <td>0</td>\n",
       "    </tr>\n",
       "    <tr>\n",
       "      <th>1</th>\n",
       "      <td>HOBBIES_1_056_CA_1_validation</td>\n",
       "      <td>HOBBIES_1_056</td>\n",
       "      <td>HOBBIES_1</td>\n",
       "      <td>CA_1</td>\n",
       "      <td>CA</td>\n",
       "      <td>d_1</td>\n",
       "      <td>0</td>\n",
       "    </tr>\n",
       "    <tr>\n",
       "      <th>2</th>\n",
       "      <td>HOBBIES_1_061_CA_1_validation</td>\n",
       "      <td>HOBBIES_1_061</td>\n",
       "      <td>HOBBIES_1</td>\n",
       "      <td>CA_1</td>\n",
       "      <td>CA</td>\n",
       "      <td>d_1</td>\n",
       "      <td>1</td>\n",
       "    </tr>\n",
       "    <tr>\n",
       "      <th>3</th>\n",
       "      <td>HOBBIES_1_063_CA_1_validation</td>\n",
       "      <td>HOBBIES_1_063</td>\n",
       "      <td>HOBBIES_1</td>\n",
       "      <td>CA_1</td>\n",
       "      <td>CA</td>\n",
       "      <td>d_1</td>\n",
       "      <td>0</td>\n",
       "    </tr>\n",
       "    <tr>\n",
       "      <th>4</th>\n",
       "      <td>HOBBIES_1_080_CA_1_validation</td>\n",
       "      <td>HOBBIES_1_080</td>\n",
       "      <td>HOBBIES_1</td>\n",
       "      <td>CA_1</td>\n",
       "      <td>CA</td>\n",
       "      <td>d_1</td>\n",
       "      <td>0</td>\n",
       "    </tr>\n",
       "  </tbody>\n",
       "</table>\n",
       "</div>"
      ],
      "text/plain": [
       "                              id        item_id    dept_id store_id state_id  \\\n",
       "0  HOBBIES_1_033_CA_1_validation  HOBBIES_1_033  HOBBIES_1     CA_1       CA   \n",
       "1  HOBBIES_1_056_CA_1_validation  HOBBIES_1_056  HOBBIES_1     CA_1       CA   \n",
       "2  HOBBIES_1_061_CA_1_validation  HOBBIES_1_061  HOBBIES_1     CA_1       CA   \n",
       "3  HOBBIES_1_063_CA_1_validation  HOBBIES_1_063  HOBBIES_1     CA_1       CA   \n",
       "4  HOBBIES_1_080_CA_1_validation  HOBBIES_1_080  HOBBIES_1     CA_1       CA   \n",
       "\n",
       "  variable  value  \n",
       "0      d_1      0  \n",
       "1      d_1      0  \n",
       "2      d_1      1  \n",
       "3      d_1      0  \n",
       "4      d_1      0  "
      ]
     },
     "execution_count": 18,
     "metadata": {},
     "output_type": "execute_result"
    }
   ],
   "source": [
    "st_validation.head()"
   ]
  },
  {
   "cell_type": "code",
   "execution_count": 19,
   "id": "4323ae93-ddd7-44e9-8005-4556b367a198",
   "metadata": {},
   "outputs": [
    {
     "data": {
      "text/plain": [
       "(2582550, 7)"
      ]
     },
     "execution_count": 19,
     "metadata": {},
     "output_type": "execute_result"
    }
   ],
   "source": [
    "st_validation.shape"
   ]
  },
  {
   "cell_type": "code",
   "execution_count": 20,
   "id": "d92c8c14-fe62-4c56-8397-64a0469f9c65",
   "metadata": {},
   "outputs": [],
   "source": [
    "st_validation = pd.merge(st_validation,calender,left_on=\"variable\",right_on=\"d\")"
   ]
  },
  {
   "cell_type": "code",
   "execution_count": 21,
   "id": "3953792d-82ad-40f2-bee8-94cf08f845fa",
   "metadata": {},
   "outputs": [
    {
     "data": {
      "text/plain": [
       "(2582550, 22)"
      ]
     },
     "execution_count": 21,
     "metadata": {},
     "output_type": "execute_result"
    }
   ],
   "source": [
    "st_validation.shape"
   ]
  },
  {
   "cell_type": "code",
   "execution_count": 22,
   "id": "cf983fdf-536e-41c2-bbd7-739907fa8c3f",
   "metadata": {},
   "outputs": [
    {
     "data": {
      "text/plain": [
       "Index(['id', 'item_id', 'dept_id', 'store_id', 'state_id', 'variable', 'value',\n",
       "       'date', 'wm_yr_wk', 'weekday', 'wday', 'month', 'year', 'd',\n",
       "       'event_name_1', 'event_type_1', 'event_name_2', 'event_type_2',\n",
       "       'snap_CA', 'snap_TX', 'snap_WI', 'snaps'],\n",
       "      dtype='object')"
      ]
     },
     "execution_count": 22,
     "metadata": {},
     "output_type": "execute_result"
    }
   ],
   "source": [
    "st_validation.columns"
   ]
  },
  {
   "cell_type": "code",
   "execution_count": 23,
   "id": "468d812d-d920-410c-9369-88031f0b8327",
   "metadata": {},
   "outputs": [
    {
     "data": {
      "text/html": [
       "<div>\n",
       "<style scoped>\n",
       "    .dataframe tbody tr th:only-of-type {\n",
       "        vertical-align: middle;\n",
       "    }\n",
       "\n",
       "    .dataframe tbody tr th {\n",
       "        vertical-align: top;\n",
       "    }\n",
       "\n",
       "    .dataframe thead th {\n",
       "        text-align: right;\n",
       "    }\n",
       "</style>\n",
       "<table border=\"1\" class=\"dataframe\">\n",
       "  <thead>\n",
       "    <tr style=\"text-align: right;\">\n",
       "      <th></th>\n",
       "      <th>store_id</th>\n",
       "      <th>item_id</th>\n",
       "      <th>wm_yr_wk</th>\n",
       "      <th>sell_price</th>\n",
       "    </tr>\n",
       "  </thead>\n",
       "  <tbody>\n",
       "    <tr>\n",
       "      <th>0</th>\n",
       "      <td>CA_1</td>\n",
       "      <td>HOBBIES_1_001</td>\n",
       "      <td>11325</td>\n",
       "      <td>9.58</td>\n",
       "    </tr>\n",
       "    <tr>\n",
       "      <th>1</th>\n",
       "      <td>CA_1</td>\n",
       "      <td>HOBBIES_1_001</td>\n",
       "      <td>11326</td>\n",
       "      <td>9.58</td>\n",
       "    </tr>\n",
       "    <tr>\n",
       "      <th>2</th>\n",
       "      <td>CA_1</td>\n",
       "      <td>HOBBIES_1_001</td>\n",
       "      <td>11327</td>\n",
       "      <td>8.26</td>\n",
       "    </tr>\n",
       "    <tr>\n",
       "      <th>3</th>\n",
       "      <td>CA_1</td>\n",
       "      <td>HOBBIES_1_001</td>\n",
       "      <td>11328</td>\n",
       "      <td>8.26</td>\n",
       "    </tr>\n",
       "    <tr>\n",
       "      <th>4</th>\n",
       "      <td>CA_1</td>\n",
       "      <td>HOBBIES_1_001</td>\n",
       "      <td>11329</td>\n",
       "      <td>8.26</td>\n",
       "    </tr>\n",
       "  </tbody>\n",
       "</table>\n",
       "</div>"
      ],
      "text/plain": [
       "  store_id        item_id  wm_yr_wk  sell_price\n",
       "0     CA_1  HOBBIES_1_001     11325        9.58\n",
       "1     CA_1  HOBBIES_1_001     11326        9.58\n",
       "2     CA_1  HOBBIES_1_001     11327        8.26\n",
       "3     CA_1  HOBBIES_1_001     11328        8.26\n",
       "4     CA_1  HOBBIES_1_001     11329        8.26"
      ]
     },
     "execution_count": 23,
     "metadata": {},
     "output_type": "execute_result"
    }
   ],
   "source": [
    "sales_data.head()"
   ]
  },
  {
   "cell_type": "code",
   "execution_count": 25,
   "id": "82e04f71-cce7-4623-a1cd-0791ff397886",
   "metadata": {},
   "outputs": [],
   "source": [
    "st_validation = pd.merge(st_validation,sales_data,on=[\"wm_yr_wk\",\"store_id\",\"item_id\"],how=\"left\")"
   ]
  },
  {
   "cell_type": "code",
   "execution_count": 26,
   "id": "e051d8a4-ced4-4259-bfab-56a4f5caf6ef",
   "metadata": {},
   "outputs": [
    {
     "data": {
      "text/plain": [
       "(2582550, 23)"
      ]
     },
     "execution_count": 26,
     "metadata": {},
     "output_type": "execute_result"
    }
   ],
   "source": [
    "st_validation.shape"
   ]
  },
  {
   "cell_type": "code",
   "execution_count": 27,
   "id": "74bdc42b-e568-4039-abb5-61b6a649f481",
   "metadata": {},
   "outputs": [
    {
     "data": {
      "text/plain": [
       "id                   0\n",
       "item_id              0\n",
       "dept_id              0\n",
       "store_id             0\n",
       "state_id             0\n",
       "variable             0\n",
       "value                0\n",
       "date                 0\n",
       "wm_yr_wk             0\n",
       "weekday              0\n",
       "wday                 0\n",
       "month                0\n",
       "year                 0\n",
       "d                    0\n",
       "event_name_1         0\n",
       "event_type_1         0\n",
       "event_name_2         0\n",
       "event_type_2         0\n",
       "snap_CA              0\n",
       "snap_TX              0\n",
       "snap_WI              0\n",
       "snaps                0\n",
       "sell_price      526750\n",
       "dtype: int64"
      ]
     },
     "execution_count": 27,
     "metadata": {},
     "output_type": "execute_result"
    }
   ],
   "source": [
    "st_validation.isnull().sum()"
   ]
  },
  {
   "cell_type": "code",
   "execution_count": 28,
   "id": "288bb01c-aeeb-413a-b18a-3f57544d3e6a",
   "metadata": {},
   "outputs": [],
   "source": [
    "for col,type1 in zip(st_validation.columns,st_validation.dtypes):\n",
    "    if(str(type1)==\"object\"):\n",
    "        st_validation[col]=st_validation[col].astype(\"category\",copy=False)"
   ]
  },
  {
   "cell_type": "code",
   "execution_count": 29,
   "id": "6d57b03b-d585-48f7-8daf-11d23d846789",
   "metadata": {},
   "outputs": [],
   "source": [
    "feather.write_feather(st_validation,data_path+\"agg_sample.feather\")"
   ]
  },
  {
   "cell_type": "code",
   "execution_count": null,
   "id": "c8c1b254-df92-4b78-8bae-9803b9a55784",
   "metadata": {},
   "outputs": [],
   "source": []
  },
  {
   "cell_type": "code",
   "execution_count": null,
   "id": "354efb9a-d32c-40c3-8f54-501532054c11",
   "metadata": {},
   "outputs": [],
   "source": []
  }
 ],
 "metadata": {
  "kernelspec": {
   "display_name": "Python 3 (ipykernel)",
   "language": "python",
   "name": "python3"
  },
  "language_info": {
   "codemirror_mode": {
    "name": "ipython",
    "version": 3
   },
   "file_extension": ".py",
   "mimetype": "text/x-python",
   "name": "python",
   "nbconvert_exporter": "python",
   "pygments_lexer": "ipython3",
   "version": "3.8.2"
  }
 },
 "nbformat": 4,
 "nbformat_minor": 5
}
