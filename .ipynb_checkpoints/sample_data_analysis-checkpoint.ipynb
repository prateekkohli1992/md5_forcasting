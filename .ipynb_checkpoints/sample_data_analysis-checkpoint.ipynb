{
 "cells": [
  {
   "cell_type": "code",
   "execution_count": 1,
   "id": "6a0fe555-1de9-4545-8f02-1f90b6a5d68e",
   "metadata": {},
   "outputs": [],
   "source": [
    "import pandas as pd\n",
    "import zipfile\n",
    "import seaborn as sns"
   ]
  },
  {
   "cell_type": "code",
   "execution_count": 2,
   "id": "c6cf4177-6cbc-43d3-b89a-f7addc45337f",
   "metadata": {},
   "outputs": [],
   "source": [
    "import matplotlib.pyplot as plt\n",
    "import numpy as np\n",
    "import gc\n",
    "import pyarrow.feather as feather"
   ]
  },
  {
   "cell_type": "code",
   "execution_count": 3,
   "id": "207d1d6c-5884-4419-a72a-46cc83f9ee0e",
   "metadata": {},
   "outputs": [],
   "source": [
    "import dask.dataframe as dd"
   ]
  },
  {
   "cell_type": "code",
   "execution_count": 4,
   "id": "d2a4ae82-278c-4fba-867d-fc26c524e107",
   "metadata": {},
   "outputs": [],
   "source": [
    "data_path=\"../data/data_accuracy/\""
   ]
  },
  {
   "cell_type": "code",
   "execution_count": 5,
   "id": "80f397e0-501d-494d-bf3a-c7eb5283e23e",
   "metadata": {},
   "outputs": [],
   "source": [
    "calender=pd.read_csv(data_path+\"calendar.csv\",dtype={'event_name_2': 'object',\n",
    "       'event_type_2': 'object'})\n",
    "sales_data=pd.read_csv(data_path+\"sell_prices.csv\")\n",
    "sales_train_validation=pd.read_csv(data_path+\"sales_train_validation.csv\")"
   ]
  },
  {
   "cell_type": "code",
   "execution_count": 6,
   "id": "c712a875-0fcf-4261-8b66-328adc99edf9",
   "metadata": {},
   "outputs": [],
   "source": [
    "sales_train_validation = sales_train_validation.sample(frac=0.3)"
   ]
  },
  {
   "cell_type": "code",
   "execution_count": 8,
   "id": "49af4ec3-b675-4858-a055-dd03bd8c1dee",
   "metadata": {},
   "outputs": [
    {
     "data": {
      "text/plain": [
       "23"
      ]
     },
     "execution_count": 8,
     "metadata": {},
     "output_type": "execute_result"
    }
   ],
   "source": [
    "gc.collect()"
   ]
  },
  {
   "cell_type": "code",
   "execution_count": 10,
   "id": "285f4401-db18-45c8-aba5-ef10f0ac7215",
   "metadata": {},
   "outputs": [],
   "source": [
    "def snaps(x):\n",
    "    snaps=[]\n",
    "    if(x[\"snap_CA\"]==1):\n",
    "        snaps.append(\"snapca\")\n",
    "    elif (x[\"snap_TX\"]==1):\n",
    "        snaps.append(\"snaptx\")\n",
    "    elif (x[\"snap_WI\"]==1):\n",
    "        snaps.append(\"snapwi\")\n",
    "    else:\n",
    "        snaps.append(\"snapno\")\n",
    "    return \"-\".join(snaps)"
   ]
  },
  {
   "cell_type": "code",
   "execution_count": 11,
   "id": "ff2d9ea4-71a6-4f67-b342-a3359b465cb3",
   "metadata": {},
   "outputs": [],
   "source": [
    "calender[\"snaps\"] = calender.apply(lambda x: snaps(x),axis=1)"
   ]
  },
  {
   "cell_type": "code",
   "execution_count": 12,
   "id": "1c1439b6-be29-4e1b-b7b9-a45671e80b08",
   "metadata": {},
   "outputs": [
    {
     "data": {
      "text/plain": [
       "snapno    994\n",
       "snapca    650\n",
       "snaptx    260\n",
       "snapwi     65\n",
       "Name: snaps, dtype: int64"
      ]
     },
     "execution_count": 12,
     "metadata": {},
     "output_type": "execute_result"
    }
   ],
   "source": [
    "calender[\"snaps\"].value_counts()"
   ]
  },
  {
   "cell_type": "code",
   "execution_count": 13,
   "id": "62517abc-175a-412e-bb77-90de792e5135",
   "metadata": {},
   "outputs": [],
   "source": [
    "cols = list(sales_train_validation.loc[:,\"d_1\":].columns)"
   ]
  },
  {
   "cell_type": "code",
   "execution_count": 14,
   "id": "05fe1841-c487-4dbb-9002-f146e1d5eebb",
   "metadata": {},
   "outputs": [],
   "source": [
    "st_validation = pd.melt(sales_train_validation,id_vars=[\"id\",\"item_id\",\"dept_id\",\"store_id\",\"state_id\"],value_vars=cols)"
   ]
  },
  {
   "cell_type": "code",
   "execution_count": 15,
   "id": "9ba14268-82b6-4c0b-a717-117ea6dfb5b0",
   "metadata": {},
   "outputs": [
    {
     "data": {
      "text/html": [
       "<div>\n",
       "<style scoped>\n",
       "    .dataframe tbody tr th:only-of-type {\n",
       "        vertical-align: middle;\n",
       "    }\n",
       "\n",
       "    .dataframe tbody tr th {\n",
       "        vertical-align: top;\n",
       "    }\n",
       "\n",
       "    .dataframe thead th {\n",
       "        text-align: right;\n",
       "    }\n",
       "</style>\n",
       "<table border=\"1\" class=\"dataframe\">\n",
       "  <thead>\n",
       "    <tr style=\"text-align: right;\">\n",
       "      <th></th>\n",
       "      <th>id</th>\n",
       "      <th>item_id</th>\n",
       "      <th>dept_id</th>\n",
       "      <th>store_id</th>\n",
       "      <th>state_id</th>\n",
       "      <th>variable</th>\n",
       "      <th>value</th>\n",
       "    </tr>\n",
       "  </thead>\n",
       "  <tbody>\n",
       "    <tr>\n",
       "      <th>0</th>\n",
       "      <td>FOODS_3_012_TX_2_validation</td>\n",
       "      <td>FOODS_3_012</td>\n",
       "      <td>FOODS_3</td>\n",
       "      <td>TX_2</td>\n",
       "      <td>TX</td>\n",
       "      <td>d_1</td>\n",
       "      <td>0</td>\n",
       "    </tr>\n",
       "    <tr>\n",
       "      <th>1</th>\n",
       "      <td>HOUSEHOLD_1_007_WI_2_validation</td>\n",
       "      <td>HOUSEHOLD_1_007</td>\n",
       "      <td>HOUSEHOLD_1</td>\n",
       "      <td>WI_2</td>\n",
       "      <td>WI</td>\n",
       "      <td>d_1</td>\n",
       "      <td>0</td>\n",
       "    </tr>\n",
       "    <tr>\n",
       "      <th>2</th>\n",
       "      <td>HOUSEHOLD_2_234_CA_1_validation</td>\n",
       "      <td>HOUSEHOLD_2_234</td>\n",
       "      <td>HOUSEHOLD_2</td>\n",
       "      <td>CA_1</td>\n",
       "      <td>CA</td>\n",
       "      <td>d_1</td>\n",
       "      <td>5</td>\n",
       "    </tr>\n",
       "    <tr>\n",
       "      <th>3</th>\n",
       "      <td>FOODS_3_208_WI_1_validation</td>\n",
       "      <td>FOODS_3_208</td>\n",
       "      <td>FOODS_3</td>\n",
       "      <td>WI_1</td>\n",
       "      <td>WI</td>\n",
       "      <td>d_1</td>\n",
       "      <td>0</td>\n",
       "    </tr>\n",
       "    <tr>\n",
       "      <th>4</th>\n",
       "      <td>HOBBIES_1_089_WI_1_validation</td>\n",
       "      <td>HOBBIES_1_089</td>\n",
       "      <td>HOBBIES_1</td>\n",
       "      <td>WI_1</td>\n",
       "      <td>WI</td>\n",
       "      <td>d_1</td>\n",
       "      <td>4</td>\n",
       "    </tr>\n",
       "  </tbody>\n",
       "</table>\n",
       "</div>"
      ],
      "text/plain": [
       "                                id          item_id      dept_id store_id  \\\n",
       "0      FOODS_3_012_TX_2_validation      FOODS_3_012      FOODS_3     TX_2   \n",
       "1  HOUSEHOLD_1_007_WI_2_validation  HOUSEHOLD_1_007  HOUSEHOLD_1     WI_2   \n",
       "2  HOUSEHOLD_2_234_CA_1_validation  HOUSEHOLD_2_234  HOUSEHOLD_2     CA_1   \n",
       "3      FOODS_3_208_WI_1_validation      FOODS_3_208      FOODS_3     WI_1   \n",
       "4    HOBBIES_1_089_WI_1_validation    HOBBIES_1_089    HOBBIES_1     WI_1   \n",
       "\n",
       "  state_id variable  value  \n",
       "0       TX      d_1      0  \n",
       "1       WI      d_1      0  \n",
       "2       CA      d_1      5  \n",
       "3       WI      d_1      0  \n",
       "4       WI      d_1      4  "
      ]
     },
     "execution_count": 15,
     "metadata": {},
     "output_type": "execute_result"
    }
   ],
   "source": [
    "st_validation.head()"
   ]
  },
  {
   "cell_type": "code",
   "execution_count": 18,
   "id": "d92c8c14-fe62-4c56-8397-64a0469f9c65",
   "metadata": {},
   "outputs": [],
   "source": [
    "st_validation = pd.merge(st_validation,calender,left_on=\"variable\",right_on=\"d\")"
   ]
  },
  {
   "cell_type": "code",
   "execution_count": 19,
   "id": "07658331-1a4f-4eb2-b287-50d4745113b1",
   "metadata": {},
   "outputs": [],
   "source": [
    "st_validation = st_validation[st_validation[\"year\"]!=2016]"
   ]
  },
  {
   "cell_type": "code",
   "execution_count": 20,
   "id": "cf983fdf-536e-41c2-bbd7-739907fa8c3f",
   "metadata": {},
   "outputs": [
    {
     "data": {
      "text/plain": [
       "Index(['id', 'item_id', 'dept_id', 'store_id', 'state_id', 'variable', 'value',\n",
       "       'date', 'wm_yr_wk', 'weekday', 'wday', 'month', 'year', 'd',\n",
       "       'event_name_1', 'event_type_1', 'event_name_2', 'event_type_2',\n",
       "       'snap_CA', 'snap_TX', 'snap_WI', 'snaps'],\n",
       "      dtype='object')"
      ]
     },
     "execution_count": 20,
     "metadata": {},
     "output_type": "execute_result"
    }
   ],
   "source": [
    "st_validation.columns"
   ]
  },
  {
   "cell_type": "code",
   "execution_count": 21,
   "id": "468d812d-d920-410c-9369-88031f0b8327",
   "metadata": {},
   "outputs": [
    {
     "data": {
      "text/html": [
       "<div>\n",
       "<style scoped>\n",
       "    .dataframe tbody tr th:only-of-type {\n",
       "        vertical-align: middle;\n",
       "    }\n",
       "\n",
       "    .dataframe tbody tr th {\n",
       "        vertical-align: top;\n",
       "    }\n",
       "\n",
       "    .dataframe thead th {\n",
       "        text-align: right;\n",
       "    }\n",
       "</style>\n",
       "<table border=\"1\" class=\"dataframe\">\n",
       "  <thead>\n",
       "    <tr style=\"text-align: right;\">\n",
       "      <th></th>\n",
       "      <th>store_id</th>\n",
       "      <th>item_id</th>\n",
       "      <th>wm_yr_wk</th>\n",
       "      <th>sell_price</th>\n",
       "    </tr>\n",
       "  </thead>\n",
       "  <tbody>\n",
       "    <tr>\n",
       "      <th>0</th>\n",
       "      <td>CA_1</td>\n",
       "      <td>HOBBIES_1_001</td>\n",
       "      <td>11325</td>\n",
       "      <td>9.58</td>\n",
       "    </tr>\n",
       "    <tr>\n",
       "      <th>1</th>\n",
       "      <td>CA_1</td>\n",
       "      <td>HOBBIES_1_001</td>\n",
       "      <td>11326</td>\n",
       "      <td>9.58</td>\n",
       "    </tr>\n",
       "    <tr>\n",
       "      <th>2</th>\n",
       "      <td>CA_1</td>\n",
       "      <td>HOBBIES_1_001</td>\n",
       "      <td>11327</td>\n",
       "      <td>8.26</td>\n",
       "    </tr>\n",
       "    <tr>\n",
       "      <th>3</th>\n",
       "      <td>CA_1</td>\n",
       "      <td>HOBBIES_1_001</td>\n",
       "      <td>11328</td>\n",
       "      <td>8.26</td>\n",
       "    </tr>\n",
       "    <tr>\n",
       "      <th>4</th>\n",
       "      <td>CA_1</td>\n",
       "      <td>HOBBIES_1_001</td>\n",
       "      <td>11329</td>\n",
       "      <td>8.26</td>\n",
       "    </tr>\n",
       "  </tbody>\n",
       "</table>\n",
       "</div>"
      ],
      "text/plain": [
       "  store_id        item_id  wm_yr_wk  sell_price\n",
       "0     CA_1  HOBBIES_1_001     11325        9.58\n",
       "1     CA_1  HOBBIES_1_001     11326        9.58\n",
       "2     CA_1  HOBBIES_1_001     11327        8.26\n",
       "3     CA_1  HOBBIES_1_001     11328        8.26\n",
       "4     CA_1  HOBBIES_1_001     11329        8.26"
      ]
     },
     "execution_count": 21,
     "metadata": {},
     "output_type": "execute_result"
    }
   ],
   "source": [
    "sales_data.head()"
   ]
  },
  {
   "cell_type": "code",
   "execution_count": 22,
   "id": "82e04f71-cce7-4623-a1cd-0791ff397886",
   "metadata": {},
   "outputs": [],
   "source": [
    "st_validation = pd.merge(st_validation,sales_data,on=[\"wm_yr_wk\",\"store_id\",\"item_id\"])"
   ]
  },
  {
   "cell_type": "code",
   "execution_count": 33,
   "id": "288bb01c-aeeb-413a-b18a-3f57544d3e6a",
   "metadata": {},
   "outputs": [],
   "source": [
    "for col,type1 in zip(st_validation.columns,st_validation.dtypes):\n",
    "    if(str(type1)==\"object\"):\n",
    "        st_validation[col]=st_validation[col].astype(\"category\",copy=False)"
   ]
  },
  {
   "cell_type": "code",
   "execution_count": 36,
   "id": "2bd6e97a-d31e-4720-9580-8fd48e7f6734",
   "metadata": {},
   "outputs": [],
   "source": []
  },
  {
   "cell_type": "code",
   "execution_count": 37,
   "id": "6d57b03b-d585-48f7-8daf-11d23d846789",
   "metadata": {},
   "outputs": [],
   "source": [
    "feather.write_feather(st_validation,data_path+\"agg_sample.feather\")"
   ]
  },
  {
   "cell_type": "code",
   "execution_count": null,
   "id": "e19e9dca-a260-4d3d-9f46-b8177359157d",
   "metadata": {},
   "outputs": [],
   "source": []
  }
 ],
 "metadata": {
  "kernelspec": {
   "display_name": "Python 3 (ipykernel)",
   "language": "python",
   "name": "python3"
  },
  "language_info": {
   "codemirror_mode": {
    "name": "ipython",
    "version": 3
   },
   "file_extension": ".py",
   "mimetype": "text/x-python",
   "name": "python",
   "nbconvert_exporter": "python",
   "pygments_lexer": "ipython3",
   "version": "3.8.2"
  }
 },
 "nbformat": 4,
 "nbformat_minor": 5
}
